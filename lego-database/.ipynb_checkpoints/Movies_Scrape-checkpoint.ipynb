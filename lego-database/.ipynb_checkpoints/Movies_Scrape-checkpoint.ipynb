{
 "cells": [
  {
   "cell_type": "code",
   "execution_count": 1,
   "metadata": {
    "collapsed": true
   },
   "outputs": [],
   "source": [
    "from requests import get\n",
    "from bs4 import BeautifulSoup\n",
    "import re\n",
    "import csv"
   ]
  },
  {
   "cell_type": "code",
   "execution_count": 15,
   "metadata": {},
   "outputs": [],
   "source": [
    "with open('allyears_test.csv', 'w') as csvfile:\n",
    "    filewriter = csv.writer(csvfile, delimiter=',', quotechar='|', quoting=csv.QUOTE_MINIMAL)\n",
    "    filewriter.writerow(['Year', 'Rank', 'Title'])\n",
    "    \n",
    "    for x in range(1980,2018):\n",
    "        url = 'http://www.boxofficemojo.com/yearly/chart/?yr='+str(x)+'&view=releasedate&view2=domestic&sort=gross&order=DESC&&p=.htm'\n",
    "        response = get(url)\n",
    "        html_soup = BeautifulSoup(response.text, 'html.parser')\n",
    "        movie_containers1 = html_soup.find_all('tr', bgcolor = '#ffffff')\n",
    "        movie_containers2 = html_soup.find_all('tr', bgcolor = '#f4f4ff')\n",
    "        for y in range(0,50):\n",
    "            this_movie = movie_containers1[y]\n",
    "            filewriter.writerow([x,this_movie.td.text,this_movie.b.a.text]) \n",
    "        for z in range(0,50):\n",
    "            this_movie = movie_containers2[z]\n",
    "            filewriter.writerow([x,this_movie.td.text,this_movie.b.a.text]) "
   ]
  },
  {
   "cell_type": "code",
   "execution_count": null,
   "metadata": {
    "collapsed": true
   },
   "outputs": [],
   "source": []
  }
 ],
 "metadata": {
  "kernelspec": {
   "display_name": "Python 3",
   "language": "python",
   "name": "python3"
  },
  "language_info": {
   "codemirror_mode": {
    "name": "ipython",
    "version": 3
   },
   "file_extension": ".py",
   "mimetype": "text/x-python",
   "name": "python",
   "nbconvert_exporter": "python",
   "pygments_lexer": "ipython3",
   "version": "3.6.3"
  }
 },
 "nbformat": 4,
 "nbformat_minor": 2
}
