{
 "cells": [
  {
   "cell_type": "code",
   "execution_count": 1,
   "metadata": {
    "collapsed": true
   },
   "outputs": [],
   "source": [
    "import csv"
   ]
  },
  {
   "cell_type": "code",
   "execution_count": 6,
   "metadata": {},
   "outputs": [
    {
     "name": "stdout",
     "output_type": "stream",
     "text": [
      "[['inventory_id', 'part_num', 'color_id', 'quantity', 'is_spare', 'color_name', 'color_rgb', 'color_istrans', 'part_name', 'part_cat_id', 'ivty_version', 'set_num', 'set_quantity', 'set_name', 'year', 'theme_id', 'set_parts_count', 'theme_name', 'theme_parent_id', 'parent_name', 'part_cat_name'], ['1', '48379c01', '72', '1', 'f', 'Dark Bluish Gray', '6C6E68', 'f', 'Sports Promo Figure Base with Feet', '27', '1', '7922-1', '', \"McDonald's Sports Set Number 6 - Orange Vest Snowboarder\", '2004', '460', '4', 'Gravity Games', '458', 'Sports', 'Minifig Accessories'], ['1', '48395', '7', '1', 'f', 'Light Gray', '9BA19D', 'f', \"Sports Promo Snowboard from McDonald's Sports Set Number 6 Set 7922\", '27', '1', '7922-1', '', \"McDonald's Sports Set Number 6 - Orange Vest Snowboarder\", '2004', '460', '4', 'Gravity Games', '458', 'Sports', 'Minifig Accessories'], ['1', 'mcsport6', '25', '1', 'f', 'Orange', 'FE8A18', 'f', \"Sports Promo Figure Head Torso Assembly McDonald's Set 6 (7922)\", '13', '1', '7922-1', '', \"McDonald's Sports Set Number 6 - Orange Vest Snowboarder\", '2004', '460', '4', 'Gravity Games', '458', 'Sports', 'Minifigs'], ['1', 'paddle', '0', '1', 'f', 'Black', '05131D', 'f', \"Sports Promo Paddle from McDonald's Sports Sets\", '27', '1', '7922-1', '', \"McDonald's Sports Set Number 6 - Orange Vest Snowboarder\", '2004', '460', '4', 'Gravity Games', '458', 'Sports', 'Minifig Accessories'], ['3', '11816pr0005', '78', '1', 'f', 'Light Flesh', 'F6D7B3', 'f', 'Minifig Head Modified - Friends - Green Eyes, Pink Lips and Closed Mouth Print', '13', '1', '3931-1', '', \"Emma's Splash Pool\", '2012', '494', '43', 'Friends', '', '', 'Minifigs'], ['3', '2343', '47', '1', 'f', 'Trans-Clear', 'FCFCFC', 't', 'Minifig Goblet', '27', '1', '3931-1', '', \"Emma's Splash Pool\", '2012', '494', '43', 'Friends', '', '', 'Minifig Accessories'], ['3', '3003', '29', '1', 'f', 'Bright Pink', 'E4ADC8', 'f', 'Brick 2 x 2', '11', '1', '3931-1', '', \"Emma's Splash Pool\", '2012', '494', '43', 'Friends', '', '', 'Bricks'], ['3', '30176', '2', '1', 'f', 'Green', '237841', 'f', 'Round 1 x 1 - 3 Bamboo Leaves', '28', '1', '3931-1', '', \"Emma's Splash Pool\", '2012', '494', '43', 'Friends', '', '', 'Plants and Animals'], ['3', '3020', '15', '1', 'f', 'White', 'FFFFFF', 'f', 'Plate 2 x 4', '14', '1', '3931-1', '', \"Emma's Splash Pool\", '2012', '494', '43', 'Friends', '', '', 'Plates'], ['3', '3022', '15', '2', 'f', 'White', 'FFFFFF', 'f', 'Plate 2 x 2', '14', '1', '3931-1', '', \"Emma's Splash Pool\", '2012', '494', '43', 'Friends', '', '', 'Plates'], ['3', '3023', '15', '1', 'f', 'White', 'FFFFFF', 'f', 'Plate 1 x 2', '14', '1', '3931-1', '', \"Emma's Splash Pool\", '2012', '494', '43', 'Friends', '', '', 'Plates']]\n"
     ]
    }
   ],
   "source": [
    "data_csv = open('lego_out.csv', 'rt')\n",
    "csvread = csv.reader(data_csv)\n",
    "\n",
    "data_set = []\n",
    "\n",
    "for x, row in enumerate(csvread):\n",
    "    data_set.append(row)\n",
    "    if x > 10:\n",
    "        break\n",
    "    continue\n",
    "\n",
    "print(data_set)"
   ]
  },
  {
   "cell_type": "code",
   "execution_count": null,
   "metadata": {
    "collapsed": true
   },
   "outputs": [],
   "source": []
  }
 ],
 "metadata": {
  "kernelspec": {
   "display_name": "Python 3",
   "language": "python",
   "name": "python3"
  },
  "language_info": {
   "codemirror_mode": {
    "name": "ipython",
    "version": 3
   },
   "file_extension": ".py",
   "mimetype": "text/x-python",
   "name": "python",
   "nbconvert_exporter": "python",
   "pygments_lexer": "ipython3",
   "version": "3.6.3"
  }
 },
 "nbformat": 4,
 "nbformat_minor": 2
}
