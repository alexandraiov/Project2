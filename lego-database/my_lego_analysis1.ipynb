{
 "cells": [
  {
   "cell_type": "code",
   "execution_count": 1,
   "metadata": {
    "collapsed": true
   },
   "outputs": [],
   "source": [
    "import pandas as pd\n",
    "import numpy as np\n",
    "import matplotlib.pyplot as plt\n",
    "import datetime\n",
    "import string\n",
    "from matplotlib.ticker import FuncFormatter\n",
    "\n",
    "pd.options.display.float_format = '{:,.2f}'.format\n",
    "%matplotlib inline"
   ]
  },
  {
   "cell_type": "code",
   "execution_count": 191,
   "metadata": {},
   "outputs": [],
   "source": [
    "df = pd.read_csv('lego_out.csv')\n",
    "df.year = df.year.fillna(0).astype(int)"
   ]
  },
  {
   "cell_type": "code",
   "execution_count": 192,
   "metadata": {},
   "outputs": [
    {
     "data": {
      "text/plain": [
       "Index(['inventory_id', 'part_num', 'color_id', 'quantity', 'is_spare',\n",
       "       'color_name', 'color_rgb', 'color_istrans', 'part_name', 'part_cat_id',\n",
       "       'ivty_version', 'set_num', 'set_quantity', 'set_name', 'year',\n",
       "       'theme_id', 'set_parts_count', 'theme_name', 'theme_parent_id',\n",
       "       'parent_name', 'part_cat_name'],\n",
       "      dtype='object')"
      ]
     },
     "execution_count": 192,
     "metadata": {},
     "output_type": "execute_result"
    }
   ],
   "source": [
    "df.columns"
   ]
  },
  {
   "cell_type": "code",
   "execution_count": 80,
   "metadata": {
    "collapsed": true
   },
   "outputs": [],
   "source": [
    "def get_theme_quantity(df):\n",
    "    \"\"\"This function takes a dataframe that contains a variable named quantity.\n",
    "    It outputs a Series containing the top theme by sum of quantity.\"\"\"\n",
    "    \n",
    "    return df.groupby('parent_name')['quantity'].sum().sort_values(ascending=False).head(1)"
   ]
  },
  {
   "cell_type": "markdown",
   "metadata": {},
   "source": [
    "### Which themes were top-sellers per year?"
   ]
  },
  {
   "cell_type": "code",
   "execution_count": 127,
   "metadata": {},
   "outputs": [
    {
     "data": {
      "text/plain": [
       "year  parent_name           \n",
       "1969  Train                      1796\n",
       "1970  Legoland                   1231\n",
       "1971  Legoland                   1502\n",
       "1972  Educational and Dacta      1152\n",
       "1973  Legoland                   2105\n",
       "1974  Universal Building Set     1216\n",
       "1975  Legoland                   1862\n",
       "1976  Legoland                   3448\n",
       "1977  Universal Building Set     3295\n",
       "1978  Classic Town               3267\n",
       "1979  Space                      2557\n",
       "1980  Train                      3496\n",
       "1981  Universal Building Set     1755\n",
       "1982  Universal Building Set     1364\n",
       "1983  Train                      2046\n",
       "1984  Classic Town               1750\n",
       "1985  Universal Building Set     5241\n",
       "1986  Classic Town               2722\n",
       "1987  Universal Building Set     4129\n",
       "1988  Space                      2792\n",
       "1989  Classic Town               2526\n",
       "1990  Universal Building Set     6251\n",
       "1991  Classic Town               4000\n",
       "1992  Universal Building Set     2434\n",
       "1993  Classic Town               3139\n",
       "1994  Classic Town               4257\n",
       "1995  Model                      2674\n",
       "1996  Classic Town               3832\n",
       "1997  Model                      4794\n",
       "1998  Universal Building Set    11899\n",
       "1999  Universal Building Set     4839\n",
       "2000  Technic                    4224\n",
       "2001  Creator                    3535\n",
       "2002  Creator                    4724\n",
       "2003  Sculptures                 9318\n",
       "2004  Creator                    9137\n",
       "2005  Creator                   13102\n",
       "2006  Creator                   12949\n",
       "2007  Model                      8616\n",
       "2008  Model                      8047\n",
       "2009  Star Wars                 10683\n",
       "2010  Star Wars                  7080\n",
       "2011  Star Wars                  7354\n",
       "2012  Star Wars                  9687\n",
       "2013  Star Wars                 10299\n",
       "2014  Star Wars                  9339\n",
       "2015  Super Heroes               9852\n",
       "2016  Star Wars                 13159\n",
       "2017  Super Heroes              12074\n",
       "Name: quantity, dtype: int64"
      ]
     },
     "execution_count": 127,
     "metadata": {},
     "output_type": "execute_result"
    }
   ],
   "source": [
    "# Group lego dataset by parent_name and determine how many units of inventory there were (as proxy for units sold)\n",
    "top_runner = df[df.year > int(1968)].groupby('year').apply(get_theme_quantity)\n",
    "top_runner\n",
    "# Plot graph of top theme by year\n",
    "#annual_qty.plot()"
   ]
  },
  {
   "cell_type": "markdown",
   "metadata": {},
   "source": [
    "### Which Lego theme is best-selling of all time?"
   ]
  },
  {
   "cell_type": "markdown",
   "metadata": {},
   "source": [
    "Star Wars is the best-selling theme of all time, with 132,552 units made and taking up 7% of all units ever made by Lego.\n",
    "Even though it is a recent arrival since 2009, it has overtaken themes such as Model (since 1983) and Creator (since 2001).\n"
   ]
  },
  {
   "cell_type": "code",
   "execution_count": 266,
   "metadata": {},
   "outputs": [
    {
     "data": {
      "image/png": "[encoded data removed]",
      "text/plain": [
       "<matplotlib.figure.Figure at 0x10f42df28>"
      ]
     },
     "metadata": {},
     "output_type": "display_data"
    }
   ],
   "source": [
    "goat = df.groupby('parent_name')['quantity'].sum().sort_values(ascending=False).head(10)\n",
    "themes = list(goat.index)[:10]\n",
    "quantity_sold = df.quantity.sum()\n",
    "\n",
    "cum_quantity = pd.DataFrame(list(zip(themes, goat/quantity_sold)), columns=['theme', 'percent_qty'])\n",
    "cum_quantity.plot(x='theme', y='percent_qty', kind='bar', legend=False, figsize=(10,5))\n",
    "plt.title(\"Top 10 Best-selling Themes of All Time\")\n",
    "plt.xlabel(\"Theme of Lego Set\")\n",
    "plt.ylabel(\"% of all units (cumulative)\")\n",
    "plt.savefig('top10.png')"
   ]
  },
  {
   "cell_type": "markdown",
   "metadata": {},
   "source": [
    "### Which themes coincide with high revenue growth in that year?"
   ]
  },
  {
   "cell_type": "code",
   "execution_count": 204,
   "metadata": {
    "collapsed": true
   },
   "outputs": [],
   "source": [
    "fin = pd.read_csv('lego_fin.csv')\n",
    "\n",
    "# Create new columns measuring yearly changes in revenue and change in operating_profit\n",
    "# Define a function to iterate over rows of dataframe in order to calculate annual change\n",
    "def year_over_year(df, col):\n",
    "    change = []\n",
    "    years = df.year\n",
    "    for i in range(df.shape[0]-1):\n",
    "        change.append((df[col][i] / df[col][i+1]) - 1)\n",
    "    change.append(0)\n",
    "    return pd.DataFrame(list(zip(years, change)), columns=['year', col+\"_growth\"])\n",
    "\n",
    "fin['profit_growth'] = year_over_year(fin, 'operating_profit')[\"operating_profit_growth\"]\n",
    "fin['revenue_growth'] = year_over_year(fin, 'revenue')[\"revenue_growth\"]\n",
    "\n",
    "#sort fin dataframe in ascending years\n",
    "fin = fin.sort_values(by=['year'], ascending=True)"
   ]
  },
  {
   "cell_type": "code",
   "execution_count": 259,
   "metadata": {},
   "outputs": [
    {
     "data": {
      "text/plain": [
       "Text(0,0.5,'USD$K')"
      ]
     },
     "execution_count": 259,
     "metadata": {},
     "output_type": "execute_result"
    },
    {
     "data": {
      "image/png": "[encoded data removed]",
      "text/plain": [
       "<matplotlib.figure.Figure at 0x1335dfba8>"
      ]
     },
     "metadata": {},
     "output_type": "display_data"
    },
    {
     "data": {
      "image/png": "[encoded data removed]",
      "text/plain": [
       "<matplotlib.figure.Figure at 0x138361748>"
      ]
     },
     "metadata": {},
     "output_type": "display_data"
    }
   ],
   "source": [
    "# How does revenue growth rate affect profit growth rate?\n",
    "\n",
    "ax1 = fin.plot(x=\"year\", y=['revenue_growth', 'profit_growth'], kind=\"line\", figsize=(8,5))\n",
    "plt.title(\"Revenue Growth vs Profit Growth over Time\")\n",
    "plt.xlabel(\"Year\")\n",
    "plt.ylabel(\"% change year-over-year\")\n",
    "ax1.yaxis.set_major_formatter(FuncFormatter(lambda y, _: '{:.0%}'.format(y))) \n",
    "#plt.savefig('revenue_growth.png') "
   ]
  },
  {
   "cell_type": "code",
   "execution_count": 261,
   "metadata": {},
   "outputs": [
    {
     "data": {
      "image/png": "[encoded data removed]",
      "text/plain": [
       "<matplotlib.figure.Figure at 0x112de2c88>"
      ]
     },
     "metadata": {},
     "output_type": "display_data"
    }
   ],
   "source": [
    "fin.plot(x=\"year\", y=[\"revenue\", \"operating_profit\"], kind=\"bar\", figsize=(8,5))\n",
    "plt.title(\"Revenue and Profit ($ in thousands) over Time\")\n",
    "plt.xlabel(\"Year\")\n",
    "plt.ylabel(\"USD$Millions\")\n",
    "#plt.savefig('pnl.png')"
   ]
  },
  {
   "cell_type": "code",
   "execution_count": 236,
   "metadata": {},
   "outputs": [
    {
     "data": {
      "text/html": [
       "<div>\n",
       "<style>\n",
       "    .dataframe thead tr:only-child th {\n",
       "        text-align: right;\n",
       "    }\n",
       "\n",
       "    .dataframe thead th {\n",
       "        text-align: left;\n",
       "    }\n",
       "\n",
       "    .dataframe tbody tr th {\n",
       "        vertical-align: top;\n",
       "    }\n",
       "</style>\n",
       "<table border=\"1\" class=\"dataframe\">\n",
       "  <thead>\n",
       "    <tr style=\"text-align: right;\">\n",
       "      <th></th>\n",
       "      <th>year</th>\n",
       "      <th>parent_name</th>\n",
       "      <th>quantity</th>\n",
       "    </tr>\n",
       "  </thead>\n",
       "  <tbody>\n",
       "    <tr>\n",
       "      <th>0</th>\n",
       "      <td>2003</td>\n",
       "      <td>Sculptures</td>\n",
       "      <td>1796</td>\n",
       "    </tr>\n",
       "    <tr>\n",
       "      <th>1</th>\n",
       "      <td>2004</td>\n",
       "      <td>Creator</td>\n",
       "      <td>1231</td>\n",
       "    </tr>\n",
       "    <tr>\n",
       "      <th>2</th>\n",
       "      <td>2005</td>\n",
       "      <td>Creator</td>\n",
       "      <td>1502</td>\n",
       "    </tr>\n",
       "    <tr>\n",
       "      <th>3</th>\n",
       "      <td>2006</td>\n",
       "      <td>Creator</td>\n",
       "      <td>1152</td>\n",
       "    </tr>\n",
       "    <tr>\n",
       "      <th>4</th>\n",
       "      <td>2007</td>\n",
       "      <td>Model</td>\n",
       "      <td>2105</td>\n",
       "    </tr>\n",
       "    <tr>\n",
       "      <th>5</th>\n",
       "      <td>2008</td>\n",
       "      <td>Model</td>\n",
       "      <td>1216</td>\n",
       "    </tr>\n",
       "    <tr>\n",
       "      <th>6</th>\n",
       "      <td>2009</td>\n",
       "      <td>Star Wars</td>\n",
       "      <td>1862</td>\n",
       "    </tr>\n",
       "    <tr>\n",
       "      <th>7</th>\n",
       "      <td>2010</td>\n",
       "      <td>Star Wars</td>\n",
       "      <td>3448</td>\n",
       "    </tr>\n",
       "    <tr>\n",
       "      <th>8</th>\n",
       "      <td>2011</td>\n",
       "      <td>Star Wars</td>\n",
       "      <td>3295</td>\n",
       "    </tr>\n",
       "    <tr>\n",
       "      <th>9</th>\n",
       "      <td>2012</td>\n",
       "      <td>Star Wars</td>\n",
       "      <td>3267</td>\n",
       "    </tr>\n",
       "    <tr>\n",
       "      <th>10</th>\n",
       "      <td>2013</td>\n",
       "      <td>Star Wars</td>\n",
       "      <td>2557</td>\n",
       "    </tr>\n",
       "    <tr>\n",
       "      <th>11</th>\n",
       "      <td>2014</td>\n",
       "      <td>Star Wars</td>\n",
       "      <td>3496</td>\n",
       "    </tr>\n",
       "    <tr>\n",
       "      <th>12</th>\n",
       "      <td>2015</td>\n",
       "      <td>Super Heroes</td>\n",
       "      <td>1755</td>\n",
       "    </tr>\n",
       "    <tr>\n",
       "      <th>13</th>\n",
       "      <td>2016</td>\n",
       "      <td>Star Wars</td>\n",
       "      <td>1364</td>\n",
       "    </tr>\n",
       "    <tr>\n",
       "      <th>14</th>\n",
       "      <td>2017</td>\n",
       "      <td>Super Heroes</td>\n",
       "      <td>2046</td>\n",
       "    </tr>\n",
       "  </tbody>\n",
       "</table>\n",
       "</div>"
      ],
      "text/plain": [
       "    year   parent_name  quantity\n",
       "0   2003    Sculptures      1796\n",
       "1   2004       Creator      1231\n",
       "2   2005       Creator      1502\n",
       "3   2006       Creator      1152\n",
       "4   2007         Model      2105\n",
       "5   2008         Model      1216\n",
       "6   2009     Star Wars      1862\n",
       "7   2010     Star Wars      3448\n",
       "8   2011     Star Wars      3295\n",
       "9   2012     Star Wars      3267\n",
       "10  2013     Star Wars      2557\n",
       "11  2014     Star Wars      3496\n",
       "12  2015  Super Heroes      1755\n",
       "13  2016     Star Wars      1364\n",
       "14  2017  Super Heroes      2046"
      ]
     },
     "execution_count": 236,
     "metadata": {},
     "output_type": "execute_result"
    }
   ],
   "source": [
    "tops = df[df.year > int(2002)].groupby('year').apply(get_theme_quantity)\n",
    "top_years = list(range(2003, 2018))\n",
    "top_themes = []\n",
    "for i in range(15):\n",
    "    top_themes.append(tops.index.values[i][1])\n",
    "\n",
    "themes_fin = pd.DataFrame(list(zip(top_years, top_themes, top_runner)), columns=['year', 'parent_name', 'quantity'])\n",
    "themes_fin"
   ]
  },
  {
   "cell_type": "code",
   "execution_count": 256,
   "metadata": {},
   "outputs": [],
   "source": [
    "rd = pd.merge(fin, themes_fin, left_on = 'year', right_on = 'year')"
   ]
  },
  {
   "cell_type": "code",
   "execution_count": 271,
   "metadata": {},
   "outputs": [
    {
     "data": {
      "text/html": [
       "<div>\n",
       "<style>\n",
       "    .dataframe thead tr:only-child th {\n",
       "        text-align: right;\n",
       "    }\n",
       "\n",
       "    .dataframe thead th {\n",
       "        text-align: left;\n",
       "    }\n",
       "\n",
       "    .dataframe tbody tr th {\n",
       "        vertical-align: top;\n",
       "    }\n",
       "</style>\n",
       "<table border=\"1\" class=\"dataframe\">\n",
       "  <thead>\n",
       "    <tr style=\"text-align: right;\">\n",
       "      <th></th>\n",
       "      <th>year</th>\n",
       "      <th>parent_name</th>\n",
       "      <th>revenue</th>\n",
       "      <th>revenue_growth</th>\n",
       "    </tr>\n",
       "  </thead>\n",
       "  <tbody>\n",
       "    <tr>\n",
       "      <th>0</th>\n",
       "      <td>2003</td>\n",
       "      <td>Sculptures</td>\n",
       "      <td>1094</td>\n",
       "      <td>0.00</td>\n",
       "    </tr>\n",
       "    <tr>\n",
       "      <th>1</th>\n",
       "      <td>2004</td>\n",
       "      <td>Creator</td>\n",
       "      <td>1142</td>\n",
       "      <td>0.04</td>\n",
       "    </tr>\n",
       "    <tr>\n",
       "      <th>2</th>\n",
       "      <td>2005</td>\n",
       "      <td>Creator</td>\n",
       "      <td>1188</td>\n",
       "      <td>0.04</td>\n",
       "    </tr>\n",
       "    <tr>\n",
       "      <th>3</th>\n",
       "      <td>2006</td>\n",
       "      <td>Creator</td>\n",
       "      <td>1334</td>\n",
       "      <td>0.12</td>\n",
       "    </tr>\n",
       "    <tr>\n",
       "      <th>4</th>\n",
       "      <td>2007</td>\n",
       "      <td>Model</td>\n",
       "      <td>1516</td>\n",
       "      <td>0.14</td>\n",
       "    </tr>\n",
       "    <tr>\n",
       "      <th>5</th>\n",
       "      <td>2008</td>\n",
       "      <td>Model</td>\n",
       "      <td>1869</td>\n",
       "      <td>0.23</td>\n",
       "    </tr>\n",
       "    <tr>\n",
       "      <th>6</th>\n",
       "      <td>2009</td>\n",
       "      <td>Star Wars</td>\n",
       "      <td>2178</td>\n",
       "      <td>0.17</td>\n",
       "    </tr>\n",
       "    <tr>\n",
       "      <th>7</th>\n",
       "      <td>2010</td>\n",
       "      <td>Star Wars</td>\n",
       "      <td>2847</td>\n",
       "      <td>0.31</td>\n",
       "    </tr>\n",
       "    <tr>\n",
       "      <th>8</th>\n",
       "      <td>2011</td>\n",
       "      <td>Star Wars</td>\n",
       "      <td>3495</td>\n",
       "      <td>0.23</td>\n",
       "    </tr>\n",
       "    <tr>\n",
       "      <th>9</th>\n",
       "      <td>2012</td>\n",
       "      <td>Star Wars</td>\n",
       "      <td>3986</td>\n",
       "      <td>0.14</td>\n",
       "    </tr>\n",
       "    <tr>\n",
       "      <th>10</th>\n",
       "      <td>2013</td>\n",
       "      <td>Star Wars</td>\n",
       "      <td>4504</td>\n",
       "      <td>0.13</td>\n",
       "    </tr>\n",
       "    <tr>\n",
       "      <th>11</th>\n",
       "      <td>2014</td>\n",
       "      <td>Star Wars</td>\n",
       "      <td>5085</td>\n",
       "      <td>0.13</td>\n",
       "    </tr>\n",
       "    <tr>\n",
       "      <th>12</th>\n",
       "      <td>2015</td>\n",
       "      <td>Super Heroes</td>\n",
       "      <td>5320</td>\n",
       "      <td>0.05</td>\n",
       "    </tr>\n",
       "    <tr>\n",
       "      <th>13</th>\n",
       "      <td>2016</td>\n",
       "      <td>Star Wars</td>\n",
       "      <td>5635</td>\n",
       "      <td>0.06</td>\n",
       "    </tr>\n",
       "    <tr>\n",
       "      <th>14</th>\n",
       "      <td>2017</td>\n",
       "      <td>Super Heroes</td>\n",
       "      <td>5302</td>\n",
       "      <td>-0.06</td>\n",
       "    </tr>\n",
       "  </tbody>\n",
       "</table>\n",
       "</div>"
      ],
      "text/plain": [
       "    year   parent_name  revenue  revenue_growth\n",
       "0   2003    Sculptures     1094            0.00\n",
       "1   2004       Creator     1142            0.04\n",
       "2   2005       Creator     1188            0.04\n",
       "3   2006       Creator     1334            0.12\n",
       "4   2007         Model     1516            0.14\n",
       "5   2008         Model     1869            0.23\n",
       "6   2009     Star Wars     2178            0.17\n",
       "7   2010     Star Wars     2847            0.31\n",
       "8   2011     Star Wars     3495            0.23\n",
       "9   2012     Star Wars     3986            0.14\n",
       "10  2013     Star Wars     4504            0.13\n",
       "11  2014     Star Wars     5085            0.13\n",
       "12  2015  Super Heroes     5320            0.05\n",
       "13  2016     Star Wars     5635            0.06\n",
       "14  2017  Super Heroes     5302           -0.06"
      ]
     },
     "execution_count": 271,
     "metadata": {},
     "output_type": "execute_result"
    }
   ],
   "source": [
    "rd[['year', 'parent_name', 'revenue', 'revenue_growth']]"
   ]
  },
  {
   "cell_type": "code",
   "execution_count": 276,
   "metadata": {},
   "outputs": [
    {
     "data": {
      "text/plain": [
       "Index(['year', 'revenue', 'production_cost', 'gross_profit', 'gross_profit%',\n",
       "       'expenses_sales', 'expenses_admin', 'expenses_other', 'expenses_total',\n",
       "       'expenses%', 'operating_profit', 'special_items', 'financial_income',\n",
       "       'financial_expenses', 'profit_before_tax', 'profit_before_tax%', 'tax',\n",
       "       'tax_rate%', 'total_assets', 'equity', 'liabilities',\n",
       "       'operating_cash_flow', 'employees', 'sales_growth_yoy%',\n",
       "       'operating_margin%', 'sales_per_emp', 'fx_usd_to_dkk', 'profit_growth',\n",
       "       'revenue_growth'],\n",
       "      dtype='object')"
      ]
     },
     "execution_count": 276,
     "metadata": {},
     "output_type": "execute_result"
    }
   ],
   "source": [
    "fin.columns"
   ]
  },
  {
   "cell_type": "code",
   "execution_count": 283,
   "metadata": {},
   "outputs": [
    {
     "data": {
      "text/plain": [
       "0.23519999999999996"
      ]
     },
     "execution_count": 283,
     "metadata": {},
     "output_type": "execute_result"
    }
   ],
   "source": [
    "fin['operating_margin%'].mean()"
   ]
  },
  {
   "cell_type": "code",
   "execution_count": 289,
   "metadata": {},
   "outputs": [
    {
     "data": {
      "text/plain": [
       "0.45640000000000003"
      ]
     },
     "execution_count": 289,
     "metadata": {},
     "output_type": "execute_result"
    }
   ],
   "source": [
    "fin['expenses%'].mean()"
   ]
  },
  {
   "cell_type": "code",
   "execution_count": null,
   "metadata": {
    "collapsed": true
   },
   "outputs": [],
   "source": []
  }
 ],
 "metadata": {
  "kernelspec": {
   "display_name": "Python 3",
   "language": "python",
   "name": "python3"
  },
  "language_info": {
   "codemirror_mode": {
    "name": "ipython",
    "version": 3
   },
   "file_extension": ".py",
   "mimetype": "text/x-python",
   "name": "python",
   "nbconvert_exporter": "python",
   "pygments_lexer": "ipython3",
   "version": "3.6.3"
  }
 },
 "nbformat": 4,
 "nbformat_minor": 2
}
