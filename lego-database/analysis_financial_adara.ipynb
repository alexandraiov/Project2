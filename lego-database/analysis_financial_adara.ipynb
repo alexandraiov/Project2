{
 "cells": [
  {
   "cell_type": "code",
   "execution_count": 116,
   "metadata": {
    "collapsed": true
   },
   "outputs": [],
   "source": [
    "import pandas as pd\n",
    "import numpy as np\n",
    "import matplotlib.pyplot as plt\n",
    "import datetime\n",
    "import string\n",
    "from matplotlib.ticker import FuncFormatter\n",
    "\n",
    "pd.options.display.float_format = '{:,.2f}'.format\n",
    "%matplotlib inline"
   ]
  },
  {
   "cell_type": "code",
   "execution_count": 54,
   "metadata": {},
   "outputs": [],
   "source": [
    "df = pd.read_csv('lego_out.csv', parse_dates = ['year'])"
   ]
  },
  {
   "cell_type": "code",
   "execution_count": 55,
   "metadata": {},
   "outputs": [
    {
     "data": {
      "text/plain": [
       "Index(['inventory_id', 'part_num', 'color_id', 'quantity', 'is_spare',\n",
       "       'color_name', 'color_rgb', 'color_istrans', 'part_name', 'part_cat_id',\n",
       "       'ivty_version', 'set_num', 'set_quantity', 'set_name', 'year',\n",
       "       'theme_id', 'set_parts_count', 'theme_name', 'theme_parent_id',\n",
       "       'parent_name', 'part_cat_name'],\n",
       "      dtype='object')"
      ]
     },
     "execution_count": 55,
     "metadata": {},
     "output_type": "execute_result"
    }
   ],
   "source": [
    "df.columns"
   ]
  },
  {
   "cell_type": "code",
   "execution_count": 128,
   "metadata": {},
   "outputs": [
    {
     "data": {
      "text/plain": [
       "parent_name\n",
       "4 Juniors          417\n",
       "9V                7011\n",
       "Advent            1413\n",
       "Advent Sub-Set    7042\n",
       "Adventurers       8621\n",
       "Name: quantity, dtype: int64"
      ]
     },
     "execution_count": 128,
     "metadata": {},
     "output_type": "execute_result"
    }
   ],
   "source": [
    "df.groupby('parent_name')['quantity'].sum().head()"
   ]
  },
  {
   "cell_type": "code",
   "execution_count": 127,
   "metadata": {},
   "outputs": [],
   "source": [
    "def get_yearly_quantity(df):\n",
    "    \"\"\"This function takes a dataframe that contains a variable named quantity.\n",
    "    It outputs a Series containing the sum of quantity by year of that\n",
    "    variable.\"\"\"\n",
    "    \n",
    "    return df.groupby('year')['quantity'].sum()"
   ]
  },
  {
   "cell_type": "code",
   "execution_count": 99,
   "metadata": {},
   "outputs": [],
   "source": [
    "d = lambda x: pd.datetime.strptime(x, '%Y')\n",
    "fin = pd.read_csv('lego_fin.csv', parse_dates = ['year'], date_parser = d)\n",
    "\n",
    "# Create new columns measuring yearly changes in revenue and change in operating_profit\n",
    "# Define a function to iterate over rows of dataframe in order to calculate annual change\n",
    "def year_over_year(df, col):\n",
    "    change = []\n",
    "    years = df.year\n",
    "    for i in range(df.shape[0]-1):\n",
    "        change.append((df[col][i] / df[col][i+1]) - 1)\n",
    "    change.append(0)\n",
    "    return pd.DataFrame(list(zip(years, change)), columns=['year', col+\"_growth\"])\n",
    "\n",
    "fin['profit_growth'] = year_over_year(fin, 'operating_profit')[\"operating_profit_growth\"]\n",
    "fin['revenue_growth'] = year_over_year(fin, 'revenue')[\"revenue_growth\"]"
   ]
  },
  {
   "cell_type": "code",
   "execution_count": 144,
   "metadata": {},
   "outputs": [
    {
     "data": {
      "text/html": [
       "<div>\n",
       "<style>\n",
       "    .dataframe thead tr:only-child th {\n",
       "        text-align: right;\n",
       "    }\n",
       "\n",
       "    .dataframe thead th {\n",
       "        text-align: left;\n",
       "    }\n",
       "\n",
       "    .dataframe tbody tr th {\n",
       "        vertical-align: top;\n",
       "    }\n",
       "</style>\n",
       "<table border=\"1\" class=\"dataframe\">\n",
       "  <thead>\n",
       "    <tr style=\"text-align: right;\">\n",
       "      <th></th>\n",
       "      <th>year</th>\n",
       "      <th>revenue</th>\n",
       "      <th>production_cost</th>\n",
       "      <th>gross_profit</th>\n",
       "      <th>gross_profit%</th>\n",
       "      <th>expenses_sales</th>\n",
       "      <th>expenses_admin</th>\n",
       "      <th>expenses_other</th>\n",
       "      <th>expenses_total</th>\n",
       "      <th>expenses%</th>\n",
       "      <th>...</th>\n",
       "      <th>equity</th>\n",
       "      <th>liabilities</th>\n",
       "      <th>operating_cash_flow</th>\n",
       "      <th>employees</th>\n",
       "      <th>sales_growth_yoy%</th>\n",
       "      <th>operating_margin%</th>\n",
       "      <th>sales_per_emp</th>\n",
       "      <th>fx_usd_to_dkk</th>\n",
       "      <th>profit_growth</th>\n",
       "      <th>revenue_growth</th>\n",
       "    </tr>\n",
       "  </thead>\n",
       "  <tbody>\n",
       "    <tr>\n",
       "      <th>14</th>\n",
       "      <td>2003-01-01</td>\n",
       "      <td>1094</td>\n",
       "      <td>476</td>\n",
       "      <td>619</td>\n",
       "      <td>0.56</td>\n",
       "      <td>536</td>\n",
       "      <td>131</td>\n",
       "      <td>113</td>\n",
       "      <td>780</td>\n",
       "      <td>0.71</td>\n",
       "      <td>...</td>\n",
       "      <td>0</td>\n",
       "      <td>0</td>\n",
       "      <td>0</td>\n",
       "      <td>0</td>\n",
       "      <td>0.00</td>\n",
       "      <td>0.00</td>\n",
       "      <td>0.00</td>\n",
       "      <td>6.58</td>\n",
       "      <td>0.00</td>\n",
       "      <td>0.00</td>\n",
       "    </tr>\n",
       "    <tr>\n",
       "      <th>13</th>\n",
       "      <td>2004-01-01</td>\n",
       "      <td>1142</td>\n",
       "      <td>446</td>\n",
       "      <td>673</td>\n",
       "      <td>0.60</td>\n",
       "      <td>480</td>\n",
       "      <td>98</td>\n",
       "      <td>101</td>\n",
       "      <td>678</td>\n",
       "      <td>0.60</td>\n",
       "      <td>...</td>\n",
       "      <td>67</td>\n",
       "      <td>1023</td>\n",
       "      <td>120</td>\n",
       "      <td>5603</td>\n",
       "      <td>-0.07</td>\n",
       "      <td>0.06</td>\n",
       "      <td>0.20</td>\n",
       "      <td>5.99</td>\n",
       "      <td>-1.11</td>\n",
       "      <td>0.04</td>\n",
       "    </tr>\n",
       "    <tr>\n",
       "      <th>12</th>\n",
       "      <td>2005-01-01</td>\n",
       "      <td>1188</td>\n",
       "      <td>493</td>\n",
       "      <td>682</td>\n",
       "      <td>0.58</td>\n",
       "      <td>431</td>\n",
       "      <td>100</td>\n",
       "      <td>86</td>\n",
       "      <td>617</td>\n",
       "      <td>0.53</td>\n",
       "      <td>...</td>\n",
       "      <td>94</td>\n",
       "      <td>1082</td>\n",
       "      <td>98</td>\n",
       "      <td>5302</td>\n",
       "      <td>0.05</td>\n",
       "      <td>0.06</td>\n",
       "      <td>0.22</td>\n",
       "      <td>6.00</td>\n",
       "      <td>3.59</td>\n",
       "      <td>0.04</td>\n",
       "    </tr>\n",
       "    <tr>\n",
       "      <th>11</th>\n",
       "      <td>2006-01-01</td>\n",
       "      <td>1334</td>\n",
       "      <td>466</td>\n",
       "      <td>850</td>\n",
       "      <td>0.65</td>\n",
       "      <td>439</td>\n",
       "      <td>96</td>\n",
       "      <td>105</td>\n",
       "      <td>641</td>\n",
       "      <td>0.49</td>\n",
       "      <td>...</td>\n",
       "      <td>200</td>\n",
       "      <td>962</td>\n",
       "      <td>195</td>\n",
       "      <td>4908</td>\n",
       "      <td>0.11</td>\n",
       "      <td>0.18</td>\n",
       "      <td>0.27</td>\n",
       "      <td>5.94</td>\n",
       "      <td>1.91</td>\n",
       "      <td>0.12</td>\n",
       "    </tr>\n",
       "    <tr>\n",
       "      <th>10</th>\n",
       "      <td>2007-01-01</td>\n",
       "      <td>1516</td>\n",
       "      <td>517</td>\n",
       "      <td>958</td>\n",
       "      <td>0.65</td>\n",
       "      <td>513</td>\n",
       "      <td>106</td>\n",
       "      <td>110</td>\n",
       "      <td>729</td>\n",
       "      <td>0.49</td>\n",
       "      <td>...</td>\n",
       "      <td>308</td>\n",
       "      <td>796</td>\n",
       "      <td>190</td>\n",
       "      <td>4199</td>\n",
       "      <td>0.03</td>\n",
       "      <td>0.18</td>\n",
       "      <td>0.35</td>\n",
       "      <td>5.44</td>\n",
       "      <td>0.19</td>\n",
       "      <td>0.14</td>\n",
       "    </tr>\n",
       "  </tbody>\n",
       "</table>\n",
       "<p>5 rows × 29 columns</p>\n",
       "</div>"
      ],
      "text/plain": [
       "         year  revenue  production_cost  gross_profit  gross_profit%  \\\n",
       "14 2003-01-01     1094              476           619           0.56   \n",
       "13 2004-01-01     1142              446           673           0.60   \n",
       "12 2005-01-01     1188              493           682           0.58   \n",
       "11 2006-01-01     1334              466           850           0.65   \n",
       "10 2007-01-01     1516              517           958           0.65   \n",
       "\n",
       "    expenses_sales  expenses_admin  expenses_other  expenses_total  expenses%  \\\n",
       "14             536             131             113             780       0.71   \n",
       "13             480              98             101             678       0.60   \n",
       "12             431             100              86             617       0.53   \n",
       "11             439              96             105             641       0.49   \n",
       "10             513             106             110             729       0.49   \n",
       "\n",
       "         ...        equity liabilities  operating_cash_flow  employees  \\\n",
       "14       ...             0           0                    0          0   \n",
       "13       ...            67        1023                  120       5603   \n",
       "12       ...            94        1082                   98       5302   \n",
       "11       ...           200         962                  195       4908   \n",
       "10       ...           308         796                  190       4199   \n",
       "\n",
       "    sales_growth_yoy%  operating_margin%  sales_per_emp  fx_usd_to_dkk  \\\n",
       "14               0.00               0.00           0.00           6.58   \n",
       "13              -0.07               0.06           0.20           5.99   \n",
       "12               0.05               0.06           0.22           6.00   \n",
       "11               0.11               0.18           0.27           5.94   \n",
       "10               0.03               0.18           0.35           5.44   \n",
       "\n",
       "    profit_growth  revenue_growth  \n",
       "14           0.00            0.00  \n",
       "13          -1.11            0.04  \n",
       "12           3.59            0.04  \n",
       "11           1.91            0.12  \n",
       "10           0.19            0.14  \n",
       "\n",
       "[5 rows x 29 columns]"
      ]
     },
     "execution_count": 144,
     "metadata": {},
     "output_type": "execute_result"
    }
   ],
   "source": [
    "#sort fin dataframe in ascending years\n",
    "fin = fin.sort_values(by=['year'], ascending=True)\n",
    "fin.head()"
   ]
  },
  {
   "cell_type": "markdown",
   "metadata": {},
   "source": [
    "### How does revenue growth rate affect profit growth rate?"
   ]
  },
  {
   "cell_type": "code",
   "execution_count": 147,
   "metadata": {},
   "outputs": [
    {
     "data": {
      "text/plain": [
       "Text(0,0.5,'USD$K')"
      ]
     },
     "execution_count": 147,
     "metadata": {},
     "output_type": "execute_result"
    },
    {
     "data": {
      "image/png": "[encoded data removed]",
      "text/plain": [
       "<matplotlib.figure.Figure at 0x1177a24a8>"
      ]
     },
     "metadata": {},
     "output_type": "display_data"
    },
    {
     "data": {
      "image/png": "[encoded data removed]",
      "text/plain": [
       "<matplotlib.figure.Figure at 0x11b5b3048>"
      ]
     },
     "metadata": {},
     "output_type": "display_data"
    }
   ],
   "source": [
    "# How does revenue growth rate affect profit growth rate?\n",
    "\n",
    "ax1 = fin.plot(x=\"year\", y=['revenue_growth', 'profit_growth'], kind=\"line\", figsize=(8,5))\n",
    "plt.title(\"Revenue Growth vs Profit Growth over Time\")\n",
    "plt.xlabel(\"Year\")\n",
    "plt.ylabel(\"% change year-over-year\")\n",
    "ax1.yaxis.set_major_formatter(FuncFormatter(lambda y, _: '{:.0%}'.format(y))) \n",
    "\n",
    "\n",
    "fin.plot(x=\"year\", y=[\"revenue\", \"operating_profit\"], kind=\"bar\", figsize=(8,5))\n",
    "plt.title(\"Revenue and Profit ($ in thousands) over Time\")\n",
    "plt.xlabel(\"Year\")\n",
    "plt.ylabel(\"USD$K\")"
   ]
  },
  {
   "cell_type": "markdown",
   "metadata": {},
   "source": [
    "### How does revenue growth rate affect profit growth rate?\n",
    "\n",
    "The chart above shows that profit growth rate varies more significantly than revenue growth rate. The large changes in profit growth rate in 2004 and 2005 indicate that there is a sensitive break-even revenue level ($1.2 billion), after which profitability rises in tandem with revenue growth.\n",
    "\n",
    "The revenue growth rate in the past 15 years was impressive at average of 12% every year and the profit growth rate moved in tandem, though subject to wider swings.\n",
    "\n"
   ]
  },
  {
   "cell_type": "code",
   "execution_count": 150,
   "metadata": {},
   "outputs": [
    {
     "name": "stdout",
     "output_type": "stream",
     "text": [
      "Average revenue growth rate is 0.1148133427613257\n",
      "Average profit growth rate is 0.44689644219201125\n",
      "12   2005-01-01\n",
      "Name: year, dtype: datetime64[ns]\n"
     ]
    },
    {
     "data": {
      "text/plain": [
       "12    1188\n",
       "Name: revenue, dtype: int64"
      ]
     },
     "execution_count": 150,
     "metadata": {},
     "output_type": "execute_result"
    }
   ],
   "source": [
    "# Get average revenue growth rate\n",
    "print(\"Average revenue growth rate is\", fin.revenue_growth.mean())\n",
    "\n",
    "# Get average profit growth rate\n",
    "print(\"Average profit growth rate is\", fin.profit_growth.mean())\n",
    "\n",
    "# Get the year with maximum profit year-on-year growth\n",
    "print(fin[fin['profit_growth'] == (fin.profit_growth.max())].year)\n",
    "\n",
    "# For 2005, what was the revenue?\n",
    "fin[fin.year == '2005'].revenue"
   ]
  },
  {
   "cell_type": "markdown",
   "metadata": {},
   "source": [
    "### Further Questions\n",
    "\n",
    "Which themes coincide with high revenue growth in that year?\n",
    "\n",
    "Group lego dataset by parent theme and determine how many units per year was sold?\n",
    "\n",
    "Which lego theme is longest running?\n",
    "\n",
    "Which lego theme is best selling of all time?"
   ]
  }
 ],
 "metadata": {
  "kernelspec": {
   "display_name": "Python 3",
   "language": "python",
   "name": "python3"
  },
  "language_info": {
   "codemirror_mode": {
    "name": "ipython",
    "version": 3
   },
   "file_extension": ".py",
   "mimetype": "text/x-python",
   "name": "python",
   "nbconvert_exporter": "python",
   "pygments_lexer": "ipython3",
   "version": "3.6.3"
  }
 },
 "nbformat": 4,
 "nbformat_minor": 2
}
